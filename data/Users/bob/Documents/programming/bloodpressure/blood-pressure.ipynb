{
 "cells": [
  {
   "cell_type": "markdown",
   "id": "5f3673cc",
   "metadata": {
    "papermill": {
     "duration": 0.01303,
     "end_time": "2021-07-20T18:05:05.369072",
     "exception": false,
     "start_time": "2021-07-20T18:05:05.356042",
     "status": "completed"
    },
    "tags": []
   },
   "source": [
    "### This very simple notebook will take a blood pressure reading log (the provided example data is produced by an OMRON Smart X reader), allocate the readings to three sections of the day (AM, MID and PM) and draw a boxplot to perform a first rough estimate about the presence of a trend."
   ]
  },
  {
   "cell_type": "markdown",
   "id": "82243e25",
   "metadata": {
    "papermill": {
     "duration": 0.011772,
     "end_time": "2021-07-20T18:05:05.393414",
     "exception": false,
     "start_time": "2021-07-20T18:05:05.381642",
     "status": "completed"
    },
    "tags": []
   },
   "source": [
    "With the data provided for instance you can form the hypothesis that the pressure in the afternoon/evening is better that in the morning/central part of the day and for instance you could act shifting the time of your pressure medication from the evening to the morning to better control the daily values."
   ]
  },
  {
   "cell_type": "markdown",
   "id": "dec61e09",
   "metadata": {
    "papermill": {
     "duration": 0.011813,
     "end_time": "2021-07-20T18:05:05.440918",
     "exception": false,
     "start_time": "2021-07-20T18:05:05.429105",
     "status": "completed"
    },
    "tags": []
   },
   "source": [
    "Import needed libraries"
   ]
  },
  {
   "cell_type": "code",
   "execution_count": 1,
   "id": "3e667c24",
   "metadata": {
    "_cell_guid": "b1076dfc-b9ad-4769-8c92-a6c4dae69d19",
    "_uuid": "8f2839f25d086af736a60e9eeb907d3b93b6e0e5",
    "papermill": {
     "duration": 1.044036,
     "end_time": "2021-07-20T18:05:06.497037",
     "exception": false,
     "start_time": "2021-07-20T18:05:05.453001",
     "status": "completed"
    },
    "tags": []
   },
   "outputs": [],
   "source": [
    "# One ring to handle numbers\n",
    "import pandas as pd\n",
    "import scipy.stats as stats\n",
    "# One ring to handle time\n",
    "import datetime as dt\n",
    "from datetime import date\n",
    "import time\n",
    "# One ring to draw reality\n",
    "import seaborn as sns\n",
    "import matplotlib.pyplot as plt\n",
    "# and One ring to rule them all ;)\n",
    "# from matplotlib.dates import date2num"
   ]
  },
  {
   "cell_type": "markdown",
   "id": "0a7eeacb",
   "metadata": {
    "papermill": {
     "duration": 0.011735,
     "end_time": "2021-07-20T18:05:06.521283",
     "exception": false,
     "start_time": "2021-07-20T18:05:06.509548",
     "status": "completed"
    },
    "tags": []
   },
   "source": [
    "Set the (arbitrary) limits to divide the day in an AM, MID(day) and PM areas and the name of data file"
   ]
  },
  {
   "cell_type": "code",
   "execution_count": 2,
   "id": "1fcec4d6",
   "metadata": {
    "papermill": {
     "duration": 0.019361,
     "end_time": "2021-07-20T18:05:06.552500",
     "exception": false,
     "start_time": "2021-07-20T18:05:06.533139",
     "status": "completed"
    },
    "tags": []
   },
   "outputs": [],
   "source": [
    "AM_LIMIT = 10\n",
    "PM_LIMIT = 16\n",
    "LOGNAME = 'data/bp_log.csv'\n",
    "# LOGNAME = '../input/blood-pressure-readings/bp_log.csv' # on Kaggle\n",
    "# https://www.kaggle.com/rjalexander/blood-pressure-circadian"
   ]
  },
  {
   "cell_type": "markdown",
   "id": "8b43e6f4",
   "metadata": {
    "papermill": {
     "duration": 0.011646,
     "end_time": "2021-07-20T18:05:06.576093",
     "exception": false,
     "start_time": "2021-07-20T18:05:06.564447",
     "status": "completed"
    },
    "tags": []
   },
   "source": [
    "Define a function to generate a \"partofday\" categorical label based on the hour of the blood pressure reading and the limits we set above"
   ]
  },
  {
   "cell_type": "code",
   "execution_count": 3,
   "id": "fd83990f",
   "metadata": {
    "papermill": {
     "duration": 0.019465,
     "end_time": "2021-07-20T18:05:06.607462",
     "exception": false,
     "start_time": "2021-07-20T18:05:06.587997",
     "status": "completed"
    },
    "tags": []
   },
   "outputs": [],
   "source": [
    "def partofday(hour):\n",
    "    if hour <= AM_LIMIT:\n",
    "        return 'AM'\n",
    "    elif hour > AM_LIMIT and hour <= PM_LIMIT:\n",
    "        return 'MID'\n",
    "    else:\n",
    "        return 'PM'"
   ]
  },
  {
   "cell_type": "markdown",
   "id": "6880796e",
   "metadata": {
    "papermill": {
     "duration": 0.011768,
     "end_time": "2021-07-20T18:05:06.631309",
     "exception": false,
     "start_time": "2021-07-20T18:05:06.619541",
     "status": "completed"
    },
    "tags": []
   },
   "source": [
    "Read and take a peek at the data as read in a dataframe"
   ]
  },
  {
   "cell_type": "code",
   "execution_count": 4,
   "id": "ac4fddac",
   "metadata": {
    "papermill": {
     "duration": 0.061435,
     "end_time": "2021-07-20T18:05:06.704616",
     "exception": false,
     "start_time": "2021-07-20T18:05:06.643181",
     "status": "completed"
    },
    "tags": []
   },
   "outputs": [
    {
     "data": {
      "text/html": [
       "<div>\n",
       "<style scoped>\n",
       "    .dataframe tbody tr th:only-of-type {\n",
       "        vertical-align: middle;\n",
       "    }\n",
       "\n",
       "    .dataframe tbody tr th {\n",
       "        vertical-align: top;\n",
       "    }\n",
       "\n",
       "    .dataframe thead th {\n",
       "        text-align: right;\n",
       "    }\n",
       "</style>\n",
       "<table border=\"1\" class=\"dataframe\">\n",
       "  <thead>\n",
       "    <tr style=\"text-align: right;\">\n",
       "      <th></th>\n",
       "      <th>Measurement Date</th>\n",
       "      <th>Time Zone</th>\n",
       "      <th>SYS</th>\n",
       "      <th>DIA</th>\n",
       "      <th>Pulse</th>\n",
       "      <th>Device Model Name</th>\n",
       "    </tr>\n",
       "  </thead>\n",
       "  <tbody>\n",
       "    <tr>\n",
       "      <th>0</th>\n",
       "      <td>2021-06-28 17:25</td>\n",
       "      <td>Europe/Rome</td>\n",
       "      <td>102</td>\n",
       "      <td>69</td>\n",
       "      <td>89</td>\n",
       "      <td>HEM-7361T_ESL</td>\n",
       "    </tr>\n",
       "    <tr>\n",
       "      <th>1</th>\n",
       "      <td>2021-06-28 19:52</td>\n",
       "      <td>Europe/Rome</td>\n",
       "      <td>101</td>\n",
       "      <td>70</td>\n",
       "      <td>93</td>\n",
       "      <td>HEM-7361T_ESL</td>\n",
       "    </tr>\n",
       "    <tr>\n",
       "      <th>2</th>\n",
       "      <td>2021-06-29 8:11</td>\n",
       "      <td>Europe/Rome</td>\n",
       "      <td>114</td>\n",
       "      <td>73</td>\n",
       "      <td>71</td>\n",
       "      <td>HEM-7361T_ESL</td>\n",
       "    </tr>\n",
       "    <tr>\n",
       "      <th>3</th>\n",
       "      <td>2021-06-30 20:49</td>\n",
       "      <td>Europe/Rome</td>\n",
       "      <td>126</td>\n",
       "      <td>80</td>\n",
       "      <td>77</td>\n",
       "      <td>HEM-7361T_ESL</td>\n",
       "    </tr>\n",
       "    <tr>\n",
       "      <th>4</th>\n",
       "      <td>2021-07-03 8:34</td>\n",
       "      <td>Europe/Rome</td>\n",
       "      <td>121</td>\n",
       "      <td>80</td>\n",
       "      <td>64</td>\n",
       "      <td>HEM-7361T_ESL</td>\n",
       "    </tr>\n",
       "  </tbody>\n",
       "</table>\n",
       "</div>"
      ],
      "text/plain": [
       "   Measurement Date    Time Zone  SYS  DIA  Pulse Device Model Name\n",
       "0  2021-06-28 17:25  Europe/Rome  102   69     89     HEM-7361T_ESL\n",
       "1  2021-06-28 19:52  Europe/Rome  101   70     93     HEM-7361T_ESL\n",
       "2   2021-06-29 8:11  Europe/Rome  114   73     71     HEM-7361T_ESL\n",
       "3  2021-06-30 20:49  Europe/Rome  126   80     77     HEM-7361T_ESL\n",
       "4   2021-07-03 8:34  Europe/Rome  121   80     64     HEM-7361T_ESL"
      ]
     },
     "execution_count": 4,
     "metadata": {},
     "output_type": "execute_result"
    }
   ],
   "source": [
    "df = pd.read_csv(LOGNAME)\n",
    "df.head()"
   ]
  },
  {
   "cell_type": "markdown",
   "id": "01713130",
   "metadata": {
    "papermill": {
     "duration": 0.012364,
     "end_time": "2021-07-20T18:05:06.729821",
     "exception": false,
     "start_time": "2021-07-20T18:05:06.717457",
     "status": "completed"
    },
    "tags": []
   },
   "source": [
    "Add a new \"partofday\" categorical new column in the dataframe"
   ]
  },
  {
   "cell_type": "code",
   "execution_count": 5,
   "id": "7d09dc4e",
   "metadata": {
    "papermill": {
     "duration": 0.031834,
     "end_time": "2021-07-20T18:05:06.774326",
     "exception": false,
     "start_time": "2021-07-20T18:05:06.742492",
     "status": "completed"
    },
    "tags": []
   },
   "outputs": [],
   "source": [
    "df['partofday'] = df.apply(lambda row: partofday(pd.to_datetime(row['Measurement Date']).hour), axis=1)"
   ]
  },
  {
   "cell_type": "markdown",
   "id": "d14b882e",
   "metadata": {
    "papermill": {
     "duration": 0.01247,
     "end_time": "2021-07-20T18:05:06.799568",
     "exception": false,
     "start_time": "2021-07-20T18:05:06.787098",
     "status": "completed"
    },
    "tags": []
   },
   "source": [
    "Now plot the SYS(tolic) and then the DIA(stolic) pressure values divided in the three sections of the day"
   ]
  },
  {
   "cell_type": "code",
   "execution_count": 6,
   "id": "59ca7535",
   "metadata": {
    "papermill": {
     "duration": 0.020534,
     "end_time": "2021-07-20T18:05:06.832746",
     "exception": false,
     "start_time": "2021-07-20T18:05:06.812212",
     "status": "completed"
    },
    "tags": []
   },
   "outputs": [],
   "source": [
    "sns.set_theme(style=\"whitegrid\")"
   ]
  },
  {
   "cell_type": "code",
   "execution_count": 7,
   "id": "cc4668de",
   "metadata": {
    "papermill": {
     "duration": 0.407819,
     "end_time": "2021-07-20T18:05:07.253845",
     "exception": false,
     "start_time": "2021-07-20T18:05:06.846026",
     "status": "completed"
    },
    "tags": []
   },
   "outputs": [
    {
     "data": {
      "image/png": "[encoded data removed]",
      "text/plain": [
       "<Figure size 432x288 with 1 Axes>"
      ]
     },
     "metadata": {},
     "output_type": "display_data"
    }
   ],
   "source": [
    "ax = sns.boxplot(x=df[\"partofday\"], y=df[\"SYS\"],hue=df[\"partofday\"],data=df, order=[\"AM\",\"MID\",\"PM\"])\n",
    "ax = sns.swarmplot(x=df[\"partofday\"], y=df[\"SYS\"],hue=df[\"partofday\"],data=df, order=[\"AM\",\"MID\",\"PM\"])\n",
    "ax.legend_.remove()"
   ]
  },
  {
   "cell_type": "code",
   "execution_count": 8,
   "id": "b5bf117a",
   "metadata": {
    "papermill": {
     "duration": 0.3796,
     "end_time": "2021-07-20T18:05:07.647069",
     "exception": false,
     "start_time": "2021-07-20T18:05:07.267469",
     "status": "completed"
    },
    "tags": []
   },
   "outputs": [
    {
     "data": {
      "image/png": "[encoded data removed]",
      "text/plain": [
       "<Figure size 432x288 with 1 Axes>"
      ]
     },
     "metadata": {},
     "output_type": "display_data"
    }
   ],
   "source": [
    "ax = sns.boxplot(x=df[\"partofday\"], y=df[\"DIA\"],hue=df[\"partofday\"],data=df, order=[\"AM\",\"MID\",\"PM\"])\n",
    "ax = sns.swarmplot(x=df[\"partofday\"], y=df[\"DIA\"],hue=df[\"partofday\"],data=df, order=[\"AM\",\"MID\",\"PM\"])\n",
    "ax.legend_.remove()"
   ]
  },
  {
   "cell_type": "markdown",
   "id": "de1fdb88",
   "metadata": {},
   "source": [
    "Now let's perform a t-test to see if there's a statistically significant difference in the average BP between AM and PM"
   ]
  },
  {
   "cell_type": "code",
   "execution_count": 9,
   "id": "852edff4",
   "metadata": {},
   "outputs": [
    {
     "data": {
      "text/plain": [
       "Ttest_indResult(statistic=1.2324127865772172, pvalue=0.22882363791438715)"
      ]
     },
     "execution_count": 9,
     "metadata": {},
     "output_type": "execute_result"
    }
   ],
   "source": [
    "stats.ttest_ind(df['SYS'][df['partofday'] == 'AM'], df['SYS'][df['partofday'] == 'PM'])"
   ]
  },
  {
   "cell_type": "code",
   "execution_count": 10,
   "id": "6818fe39",
   "metadata": {},
   "outputs": [
    {
     "data": {
      "text/plain": [
       "Ttest_indResult(statistic=0.7141024535862148, pvalue=0.4815260478916503)"
      ]
     },
     "execution_count": 10,
     "metadata": {},
     "output_type": "execute_result"
    }
   ],
   "source": [
    "stats.ttest_ind(df['DIA'][df['partofday'] == 'AM'], df['DIA'][df['partofday'] == 'PM'])"
   ]
  },
  {
   "cell_type": "markdown",
   "id": "916a628e",
   "metadata": {},
   "source": [
    "Now let's perform a t-test to see if there's a statistically significant difference in the average BP between AM and MIDday"
   ]
  },
  {
   "cell_type": "code",
   "execution_count": 11,
   "id": "7c0cbed4",
   "metadata": {},
   "outputs": [
    {
     "data": {
      "text/plain": [
       "Ttest_indResult(statistic=0.2651683628821406, pvalue=0.792970843239787)"
      ]
     },
     "execution_count": 11,
     "metadata": {},
     "output_type": "execute_result"
    }
   ],
   "source": [
    "stats.ttest_ind(df['SYS'][df['partofday'] == 'AM'], df['SYS'][df['partofday'] == 'MID'])"
   ]
  },
  {
   "cell_type": "code",
   "execution_count": 12,
   "id": "60452386",
   "metadata": {},
   "outputs": [
    {
     "data": {
      "text/plain": [
       "Ttest_indResult(statistic=0.9830420547544898, pvalue=0.3346466476384462)"
      ]
     },
     "execution_count": 12,
     "metadata": {},
     "output_type": "execute_result"
    }
   ],
   "source": [
    "stats.ttest_ind(df['DIA'][df['partofday'] == 'AM'], df['DIA'][df['partofday'] == 'MID'])"
   ]
  },
  {
   "cell_type": "markdown",
   "id": "835ea1df",
   "metadata": {
    "papermill": {
     "duration": 0.014029,
     "end_time": "2021-07-20T18:05:07.675638",
     "exception": false,
     "start_time": "2021-07-20T18:05:07.661609",
     "status": "completed"
    },
    "tags": []
   },
   "source": [
    "### Conclusion: from this initial assessment of the data you could hypothesize that the pressure is better (lower) in the afternoon/evening and therefore reccomend the patient to take her medication in the morning as opposed to the evening. The difference between AM and MIDday is not significant."
   ]
  },
  {
   "cell_type": "markdown",
   "id": "076533ff",
   "metadata": {},
   "source": [
    "### Let's now plot the BP values and see what's the temporal trend in time"
   ]
  },
  {
   "cell_type": "markdown",
   "id": "d3f48c6d-24d7-435e-b70c-b88db69c97ee",
   "metadata": {},
   "source": [
    "### Add a date_ordinal column converting the datetime value to an epoch (seconds till 01/01/70)\n"
   ]
  },
  {
   "cell_type": "code",
   "execution_count": 13,
   "id": "3319ae69-431e-4f05-b4ba-f6253a14c6de",
   "metadata": {},
   "outputs": [],
   "source": [
    "df['date_ordinal'] = pd.to_datetime(df['Measurement Date']).apply(lambda date: date.timestamp())"
   ]
  },
  {
   "cell_type": "markdown",
   "id": "d0dcc0dc",
   "metadata": {},
   "source": [
    "Now plot the line graph using \"timestamp\" datetime as the time-series x value"
   ]
  },
  {
   "cell_type": "code",
   "execution_count": 14,
   "id": "47bdad17",
   "metadata": {},
   "outputs": [
    {
     "data": {
      "image/png": "[encoded data removed]",
      "text/plain": [
       "<Figure size 1008x432 with 1 Axes>"
      ]
     },
     "metadata": {},
     "output_type": "display_data"
    }
   ],
   "source": [
    "plt.figure(figsize=(14,6))\n",
    "ax1 = df.SYS.plot(x='timestamp', color='red', grid=True, label='SYS')\n",
    "ax1 = df.DIA.plot(x='timestamp', color='blue', grid=True, label='DIA')\n",
    "plt.legend()\n",
    "plt.legend(loc='upper left')\n",
    "plt.xticks(rotation=25)\n",
    "ax1.set_xlabel('date (days)')\n",
    "plt.show()"
   ]
  },
  {
   "cell_type": "markdown",
   "id": "7723af59",
   "metadata": {},
   "source": [
    "Now plot a scatterplot with a linear regression fit. To do so as the scattterplot does not accept a datetime timestamp as the x values, I am using the epoch (seconds from 01-jan-1970) contained in the \"date_ordinal\" column"
   ]
  },
  {
   "cell_type": "code",
   "execution_count": 15,
   "id": "f9278ddd",
   "metadata": {},
   "outputs": [
    {
     "name": "stderr",
     "output_type": "stream",
     "text": [
      "<ipython-input-15-70702cae7020>:9: UserWarning: FixedFormatter should only be used together with FixedLocator\n",
      "  ax.set_xticklabels(new_labels)\n"
     ]
    },
    {
     "data": {
      "image/png": "[encoded data removed]",
      "text/plain": [
       "<Figure size 1008x432 with 1 Axes>"
      ]
     },
     "metadata": {},
     "output_type": "display_data"
    }
   ],
   "source": [
    "plt.figure(figsize=(14,6))\n",
    "ax = sns.regplot(x=\"date_ordinal\", y=\"SYS\", data=df, label=\"SYS\")\n",
    "ax = sns.regplot(x=\"date_ordinal\", y=\"DIA\", data=df, label=\"DIA\")\n",
    "# create some whitespace horizontally around the plot values\n",
    "ax.set_xlim(df['date_ordinal'].min() - 100000, df['date_ordinal'].max() + 100000)\n",
    "# now convert the epoch values back to a YYYY-MM-DD string for the x labels\n",
    "# localtime converts the epoch into a datetime object abd strftime converts it into a string\n",
    "new_labels = [time.strftime('%Y-%m-%d',time.localtime(item)) for item in ax.get_xticks()]\n",
    "ax.set_xticklabels(new_labels)\n",
    "# set some visuals\n",
    "ax.set_xlabel('date')\n",
    "plt.xticks(rotation=25)\n",
    "plt.legend()\n",
    "plt.show()"
   ]
  },
  {
   "cell_type": "code",
   "execution_count": null,
   "id": "020b109e-8d79-410d-836c-20a9f4d4f30c",
   "metadata": {},
   "outputs": [],
   "source": []
  }
 ],
 "metadata": {
  "interpreter": {
   "hash": "bdc55269a2662f4906ef3caf9259cd1c01de25e7757f5be1a6cca0a233cd994b"
  },
  "kernelspec": {
   "display_name": "Python 3 (ipykernel)",
   "language": "python",
   "name": "python3"
  },
  "language_info": {
   "codemirror_mode": {
    "name": "ipython",
    "version": 3
   },
   "file_extension": ".py",
   "mimetype": "text/x-python",
   "name": "python",
   "nbconvert_exporter": "python",
   "pygments_lexer": "ipython3",
   "version": "3.9.12"
  },
  "papermill": {
   "default_parameters": {},
   "duration": 11.362955,
   "end_time": "2021-07-20T18:05:08.400224",
   "environment_variables": {},
   "exception": null,
   "input_path": "__notebook__.ipynb",
   "output_path": "__notebook__.ipynb",
   "parameters": {},
   "start_time": "2021-07-20T18:04:57.037269",
   "version": "2.3.3"
  }
 },
 "nbformat": 4,
 "nbformat_minor": 5
}
