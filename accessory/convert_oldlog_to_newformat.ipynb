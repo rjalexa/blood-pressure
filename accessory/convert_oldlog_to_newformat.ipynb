{
 "cells": [
  {
   "cell_type": "code",
   "execution_count": 1,
   "id": "a7cb1cd5-bdd8-4fd8-9269-697e9734e623",
   "metadata": {},
   "outputs": [],
   "source": [
    "import pandas as pd\n",
    "import datetime as dt\n",
    "import csv #needed for the following QUOTE_ALL constant"
   ]
  },
  {
   "cell_type": "code",
   "execution_count": 2,
   "id": "fd53ddd2-5973-4eb9-850a-fb7210976507",
   "metadata": {},
   "outputs": [],
   "source": [
    "OLD_LOGNAME = 'data/bp_log.csv'\n",
    "NEW_LOGNAME = 'data/olddata_tonewformat.csv'"
   ]
  },
  {
   "cell_type": "code",
   "execution_count": 3,
   "id": "6f4bb6d6-86fa-4a2b-b465-67978cd61e65",
   "metadata": {},
   "outputs": [
    {
     "data": {
      "text/html": [
       "<div>\n",
       "<style scoped>\n",
       "    .dataframe tbody tr th:only-of-type {\n",
       "        vertical-align: middle;\n",
       "    }\n",
       "\n",
       "    .dataframe tbody tr th {\n",
       "        vertical-align: top;\n",
       "    }\n",
       "\n",
       "    .dataframe thead th {\n",
       "        text-align: right;\n",
       "    }\n",
       "</style>\n",
       "<table border=\"1\" class=\"dataframe\">\n",
       "  <thead>\n",
       "    <tr style=\"text-align: right;\">\n",
       "      <th></th>\n",
       "      <th>Measurement Date</th>\n",
       "      <th>Time Zone</th>\n",
       "      <th>SYS</th>\n",
       "      <th>DIA</th>\n",
       "      <th>Pulse</th>\n",
       "      <th>Device Model Name</th>\n",
       "    </tr>\n",
       "  </thead>\n",
       "  <tbody>\n",
       "    <tr>\n",
       "      <th>0</th>\n",
       "      <td>2021-05-07 11:04</td>\n",
       "      <td>Europe/Rome</td>\n",
       "      <td>135</td>\n",
       "      <td>81</td>\n",
       "      <td>77</td>\n",
       "      <td>HEM-7361T_ESL</td>\n",
       "    </tr>\n",
       "    <tr>\n",
       "      <th>1</th>\n",
       "      <td>2021-05-07 11:05</td>\n",
       "      <td>Europe/Rome</td>\n",
       "      <td>129</td>\n",
       "      <td>81</td>\n",
       "      <td>71</td>\n",
       "      <td>HEM-7361T_ESL</td>\n",
       "    </tr>\n",
       "    <tr>\n",
       "      <th>2</th>\n",
       "      <td>2021-05-08 9:17</td>\n",
       "      <td>Europe/Rome</td>\n",
       "      <td>125</td>\n",
       "      <td>72</td>\n",
       "      <td>63</td>\n",
       "      <td>HEM-7361T_ESL</td>\n",
       "    </tr>\n",
       "    <tr>\n",
       "      <th>3</th>\n",
       "      <td>2021-05-09 21:43</td>\n",
       "      <td>Europe/Rome</td>\n",
       "      <td>118</td>\n",
       "      <td>73</td>\n",
       "      <td>68</td>\n",
       "      <td>HEM-7361T_ESL</td>\n",
       "    </tr>\n",
       "    <tr>\n",
       "      <th>4</th>\n",
       "      <td>2021-05-10 7:22</td>\n",
       "      <td>Europe/Rome</td>\n",
       "      <td>124</td>\n",
       "      <td>81</td>\n",
       "      <td>63</td>\n",
       "      <td>HEM-7361T_ESL</td>\n",
       "    </tr>\n",
       "  </tbody>\n",
       "</table>\n",
       "</div>"
      ],
      "text/plain": [
       "   Measurement Date    Time Zone  SYS  DIA  Pulse Device Model Name\n",
       "0  2021-05-07 11:04  Europe/Rome  135   81     77     HEM-7361T_ESL\n",
       "1  2021-05-07 11:05  Europe/Rome  129   81     71     HEM-7361T_ESL\n",
       "2   2021-05-08 9:17  Europe/Rome  125   72     63     HEM-7361T_ESL\n",
       "3  2021-05-09 21:43  Europe/Rome  118   73     68     HEM-7361T_ESL\n",
       "4   2021-05-10 7:22  Europe/Rome  124   81     63     HEM-7361T_ESL"
      ]
     },
     "execution_count": 3,
     "metadata": {},
     "output_type": "execute_result"
    }
   ],
   "source": [
    "df = pd.read_csv(OLD_LOGNAME)\n",
    "df.head()"
   ]
  },
  {
   "cell_type": "code",
   "execution_count": 4,
   "id": "2c312544-6161-478e-bb6a-150cf3360028",
   "metadata": {},
   "outputs": [
    {
     "name": "stdout",
     "output_type": "stream",
     "text": [
      "<class 'pandas.core.frame.DataFrame'>\n",
      "RangeIndex: 72 entries, 0 to 71\n",
      "Data columns (total 6 columns):\n",
      " #   Column             Non-Null Count  Dtype \n",
      "---  ------             --------------  ----- \n",
      " 0   Measurement Date   72 non-null     object\n",
      " 1   Time Zone          72 non-null     object\n",
      " 2   SYS                72 non-null     int64 \n",
      " 3   DIA                72 non-null     int64 \n",
      " 4   Pulse              72 non-null     int64 \n",
      " 5   Device Model Name  72 non-null     object\n",
      "dtypes: int64(3), object(3)\n",
      "memory usage: 3.5+ KB\n"
     ]
    }
   ],
   "source": [
    "df.info()"
   ]
  },
  {
   "cell_type": "code",
   "execution_count": 5,
   "id": "0fac3cc7-6667-4b5c-9081-be283e1f9fdc",
   "metadata": {},
   "outputs": [],
   "source": [
    "# convert the MEasurement Date column from a string to a datetime64 format\n",
    "df['Measurement Date'] = pd.to_datetime(df['Measurement Date'], format='%Y-%m-%d %H:%M')"
   ]
  },
  {
   "cell_type": "code",
   "execution_count": 12,
   "id": "3e77a255-e6a1-4fac-b234-83c758a94b8f",
   "metadata": {},
   "outputs": [],
   "source": [
    "# split the old timestamp in the new two distinct fields with proper expected format\n",
    "df['Date'] = df['Measurement Date'].dt.strftime(\"%d %b %Y\")\n",
    "df['Time'] = df['Measurement Date'].dt.strftime(\"%H:%M\")"
   ]
  },
  {
   "cell_type": "code",
   "execution_count": 30,
   "id": "9977e909-3b31-43ee-9cb4-4c089eda4efe",
   "metadata": {},
   "outputs": [],
   "source": [
    "# create and fill the new dataframe in the new expected log format\n",
    "dfnew = pd.DataFrame()\n",
    "dfnew[\"Date\"] = df[\"Date\"] # from old dataframe\n",
    "dfnew[\"Time\"] = df[\"Time\"] # from old dataframe\n",
    "dfnew[\"Systolic (mmHg)\"] = df[\"SYS\"] # from old dataframe\n",
    "dfnew[\"Diastolic (mmHg)\"] = df[\"DIA\"] # from old dataframe\n",
    "dfnew[\"Pulse (bpm)\"] = df[\"Pulse\"] # from old dataframe\n",
    "dfnew[\"Irregular heartbeat detected\"] = \" \"\n",
    "dfnew[\"Body Movement\"] = \" \"\n",
    "dfnew[\"Cuff wrap guide\"] = \" \"\n",
    "dfnew[\"Positioning Indicator\"] = \" \"\n",
    "dfnew[\"Measurement Mode\"] = \" \"\n",
    "dfnew[\"Possible Afib\"] = \" \"\n",
    "dfnew[\"Device\"] = df[\"Device Model Name\"] # from old dataframe\n",
    "dfnew[\"Notes\"] = \"_\""
   ]
  },
  {
   "cell_type": "code",
   "execution_count": 40,
   "id": "7f2daecb-9ec3-4a06-90d4-89d006516259",
   "metadata": {},
   "outputs": [],
   "source": [
    "# index is false since I do not need that column, quotechar and quoting to get everything written surrounded by double quotes\n",
    "dfnew.to_csv(NEW_LOGNAME, index=False, sep=',', encoding='utf-8', quotechar='\"', quoting=csv.QUOTE_ALL)"
   ]
  }
 ],
 "metadata": {
  "kernelspec": {
   "display_name": "Python 3 (ipykernel)",
   "language": "python",
   "name": "python3"
  },
  "language_info": {
   "codemirror_mode": {
    "name": "ipython",
    "version": 3
   },
   "file_extension": ".py",
   "mimetype": "text/x-python",
   "name": "python",
   "nbconvert_exporter": "python",
   "pygments_lexer": "ipython3",
   "version": "3.9.12"
  }
 },
 "nbformat": 4,
 "nbformat_minor": 5
}
