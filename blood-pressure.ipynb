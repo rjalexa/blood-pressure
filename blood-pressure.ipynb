{
 "cells": [
  {
   "cell_type": "markdown",
   "source": [
    "### This very simple notebook will take a blood pressure reading log (the provided example data is produced by an OMRON Smart X reader), allocate the readings to three sections of the day (AM, MID and PM) and draw a boxplot to perform a first rough estimate about the presence of a trend."
   ],
   "metadata": {
    "papermill": {
     "duration": 0.01303,
     "end_time": "2021-07-20T18:05:05.369072",
     "exception": false,
     "start_time": "2021-07-20T18:05:05.356042",
     "status": "completed"
    },
    "tags": []
   }
  },
  {
   "cell_type": "markdown",
   "source": [
    "With the data provided for instance you can form the hypothesis that the pressure in the afternoon/evening is better that in the morning/central part of the day and for instance you could act shifting the time of your pressure medication from the evening to the morning to better control the daily values."
   ],
   "metadata": {
    "papermill": {
     "duration": 0.011772,
     "end_time": "2021-07-20T18:05:05.393414",
     "exception": false,
     "start_time": "2021-07-20T18:05:05.381642",
     "status": "completed"
    },
    "tags": []
   }
  },
  {
   "cell_type": "markdown",
   "source": [
    "Import needed libraries"
   ],
   "metadata": {
    "papermill": {
     "duration": 0.011813,
     "end_time": "2021-07-20T18:05:05.440918",
     "exception": false,
     "start_time": "2021-07-20T18:05:05.429105",
     "status": "completed"
    },
    "tags": []
   }
  },
  {
   "cell_type": "code",
   "execution_count": 18,
   "source": [
    "import pandas as pd\n",
    "import seaborn as sns\n",
    "import datetime as dt\n",
    "import scipy.stats as stats\n",
    "import matplotlib.pyplot as plt"
   ],
   "outputs": [],
   "metadata": {
    "_cell_guid": "b1076dfc-b9ad-4769-8c92-a6c4dae69d19",
    "_uuid": "8f2839f25d086af736a60e9eeb907d3b93b6e0e5",
    "papermill": {
     "duration": 1.044036,
     "end_time": "2021-07-20T18:05:06.497037",
     "exception": false,
     "start_time": "2021-07-20T18:05:05.453001",
     "status": "completed"
    },
    "tags": []
   }
  },
  {
   "cell_type": "markdown",
   "source": [
    "Set the (arbitrary) limits to divide the day in an AM, MID(day) and PM areas and the name of data file"
   ],
   "metadata": {
    "papermill": {
     "duration": 0.011735,
     "end_time": "2021-07-20T18:05:06.521283",
     "exception": false,
     "start_time": "2021-07-20T18:05:06.509548",
     "status": "completed"
    },
    "tags": []
   }
  },
  {
   "cell_type": "code",
   "execution_count": 2,
   "source": [
    "AM_LIMIT = 10\n",
    "PM_LIMIT = 16\n",
    "LOGNAME = 'data/bp_log.csv'\n",
    "# LOGNAME = '../input/blood-pressure-readings/bp_log.csv' # on Kaggle\n",
    "# https://www.kaggle.com/rjalexander/blood-pressure-circadian"
   ],
   "outputs": [],
   "metadata": {
    "papermill": {
     "duration": 0.019361,
     "end_time": "2021-07-20T18:05:06.552500",
     "exception": false,
     "start_time": "2021-07-20T18:05:06.533139",
     "status": "completed"
    },
    "tags": []
   }
  },
  {
   "cell_type": "markdown",
   "source": [
    "Define a function to generate a \"partofday\" categorical label based on the hour of the blood pressure reading and the limits we set above"
   ],
   "metadata": {
    "papermill": {
     "duration": 0.011646,
     "end_time": "2021-07-20T18:05:06.576093",
     "exception": false,
     "start_time": "2021-07-20T18:05:06.564447",
     "status": "completed"
    },
    "tags": []
   }
  },
  {
   "cell_type": "code",
   "execution_count": 3,
   "source": [
    "def partofday(hour):\n",
    "    if hour <= AM_LIMIT:\n",
    "        return 'AM'\n",
    "    elif hour > AM_LIMIT and hour <= PM_LIMIT:\n",
    "        return 'MID'\n",
    "    else:\n",
    "        return 'PM'"
   ],
   "outputs": [],
   "metadata": {
    "papermill": {
     "duration": 0.019465,
     "end_time": "2021-07-20T18:05:06.607462",
     "exception": false,
     "start_time": "2021-07-20T18:05:06.587997",
     "status": "completed"
    },
    "tags": []
   }
  },
  {
   "cell_type": "markdown",
   "source": [
    "Read and take a peek at the data as read in a dataframe"
   ],
   "metadata": {
    "papermill": {
     "duration": 0.011768,
     "end_time": "2021-07-20T18:05:06.631309",
     "exception": false,
     "start_time": "2021-07-20T18:05:06.619541",
     "status": "completed"
    },
    "tags": []
   }
  },
  {
   "cell_type": "code",
   "execution_count": 4,
   "source": [
    "df = pd.read_csv(LOGNAME)\n",
    "df.head()"
   ],
   "outputs": [
    {
     "output_type": "execute_result",
     "data": {
      "text/plain": [
       "   Measurement Date    Time Zone  SYS  DIA  Pulse Device Model Name\n",
       "0  2021-06-24 19:01  Europe/Rome  102   69     82     HEM-7361T_ESL\n",
       "1  2021-06-24 19:05  Europe/Rome   93   71     80     HEM-7361T_ESL\n",
       "2   2021-06-25 8:20  Europe/Rome  112   70     66     HEM-7361T_ESL\n",
       "3  2021-06-26 11:53  Europe/Rome  107   75     88     HEM-7361T_ESL\n",
       "4  2021-06-28 17:25  Europe/Rome  102   69     89     HEM-7361T_ESL"
      ],
      "text/html": [
       "<div>\n",
       "<style scoped>\n",
       "    .dataframe tbody tr th:only-of-type {\n",
       "        vertical-align: middle;\n",
       "    }\n",
       "\n",
       "    .dataframe tbody tr th {\n",
       "        vertical-align: top;\n",
       "    }\n",
       "\n",
       "    .dataframe thead th {\n",
       "        text-align: right;\n",
       "    }\n",
       "</style>\n",
       "<table border=\"1\" class=\"dataframe\">\n",
       "  <thead>\n",
       "    <tr style=\"text-align: right;\">\n",
       "      <th></th>\n",
       "      <th>Measurement Date</th>\n",
       "      <th>Time Zone</th>\n",
       "      <th>SYS</th>\n",
       "      <th>DIA</th>\n",
       "      <th>Pulse</th>\n",
       "      <th>Device Model Name</th>\n",
       "    </tr>\n",
       "  </thead>\n",
       "  <tbody>\n",
       "    <tr>\n",
       "      <th>0</th>\n",
       "      <td>2021-06-24 19:01</td>\n",
       "      <td>Europe/Rome</td>\n",
       "      <td>102</td>\n",
       "      <td>69</td>\n",
       "      <td>82</td>\n",
       "      <td>HEM-7361T_ESL</td>\n",
       "    </tr>\n",
       "    <tr>\n",
       "      <th>1</th>\n",
       "      <td>2021-06-24 19:05</td>\n",
       "      <td>Europe/Rome</td>\n",
       "      <td>93</td>\n",
       "      <td>71</td>\n",
       "      <td>80</td>\n",
       "      <td>HEM-7361T_ESL</td>\n",
       "    </tr>\n",
       "    <tr>\n",
       "      <th>2</th>\n",
       "      <td>2021-06-25 8:20</td>\n",
       "      <td>Europe/Rome</td>\n",
       "      <td>112</td>\n",
       "      <td>70</td>\n",
       "      <td>66</td>\n",
       "      <td>HEM-7361T_ESL</td>\n",
       "    </tr>\n",
       "    <tr>\n",
       "      <th>3</th>\n",
       "      <td>2021-06-26 11:53</td>\n",
       "      <td>Europe/Rome</td>\n",
       "      <td>107</td>\n",
       "      <td>75</td>\n",
       "      <td>88</td>\n",
       "      <td>HEM-7361T_ESL</td>\n",
       "    </tr>\n",
       "    <tr>\n",
       "      <th>4</th>\n",
       "      <td>2021-06-28 17:25</td>\n",
       "      <td>Europe/Rome</td>\n",
       "      <td>102</td>\n",
       "      <td>69</td>\n",
       "      <td>89</td>\n",
       "      <td>HEM-7361T_ESL</td>\n",
       "    </tr>\n",
       "  </tbody>\n",
       "</table>\n",
       "</div>"
      ]
     },
     "metadata": {},
     "execution_count": 4
    }
   ],
   "metadata": {
    "papermill": {
     "duration": 0.061435,
     "end_time": "2021-07-20T18:05:06.704616",
     "exception": false,
     "start_time": "2021-07-20T18:05:06.643181",
     "status": "completed"
    },
    "tags": []
   }
  },
  {
   "cell_type": "markdown",
   "source": [
    "Add a new \"partofday\" categorical new column in the dataframe"
   ],
   "metadata": {
    "papermill": {
     "duration": 0.012364,
     "end_time": "2021-07-20T18:05:06.729821",
     "exception": false,
     "start_time": "2021-07-20T18:05:06.717457",
     "status": "completed"
    },
    "tags": []
   }
  },
  {
   "cell_type": "code",
   "execution_count": 5,
   "source": [
    "df['partofday'] = df.apply(lambda row: partofday(pd.to_datetime(row['Measurement Date']).hour), axis=1)"
   ],
   "outputs": [],
   "metadata": {
    "papermill": {
     "duration": 0.031834,
     "end_time": "2021-07-20T18:05:06.774326",
     "exception": false,
     "start_time": "2021-07-20T18:05:06.742492",
     "status": "completed"
    },
    "tags": []
   }
  },
  {
   "cell_type": "markdown",
   "source": [
    "Now plot the SYS(tolic) and then the DIA(stolic) pressure values divided in the three sections of the day"
   ],
   "metadata": {
    "papermill": {
     "duration": 0.01247,
     "end_time": "2021-07-20T18:05:06.799568",
     "exception": false,
     "start_time": "2021-07-20T18:05:06.787098",
     "status": "completed"
    },
    "tags": []
   }
  },
  {
   "cell_type": "code",
   "execution_count": 6,
   "source": [
    "sns.set_theme(style=\"whitegrid\")"
   ],
   "outputs": [],
   "metadata": {
    "papermill": {
     "duration": 0.020534,
     "end_time": "2021-07-20T18:05:06.832746",
     "exception": false,
     "start_time": "2021-07-20T18:05:06.812212",
     "status": "completed"
    },
    "tags": []
   }
  },
  {
   "cell_type": "code",
   "execution_count": 7,
   "source": [
    "ax = sns.boxplot(x=df[\"partofday\"], y=df[\"SYS\"],hue=df[\"partofday\"],data=df, order=[\"AM\",\"MID\",\"PM\"])\n",
    "ax = sns.swarmplot(x=df[\"partofday\"], y=df[\"SYS\"],hue=df[\"partofday\"],data=df, order=[\"AM\",\"MID\",\"PM\"])\n",
    "ax.legend_.remove()"
   ],
   "outputs": [
    {
     "output_type": "display_data",
     "data": {
      "text/plain": [
       "<Figure size 432x288 with 1 Axes>"
      ],
      "image/png": "[encoded data removed]"
     },
     "metadata": {}
    }
   ],
   "metadata": {
    "papermill": {
     "duration": 0.407819,
     "end_time": "2021-07-20T18:05:07.253845",
     "exception": false,
     "start_time": "2021-07-20T18:05:06.846026",
     "status": "completed"
    },
    "tags": []
   }
  },
  {
   "cell_type": "code",
   "execution_count": 8,
   "source": [
    "ax = sns.boxplot(x=df[\"partofday\"], y=df[\"DIA\"],hue=df[\"partofday\"],data=df, order=[\"AM\",\"MID\",\"PM\"])\n",
    "ax = sns.swarmplot(x=df[\"partofday\"], y=df[\"DIA\"],hue=df[\"partofday\"],data=df, order=[\"AM\",\"MID\",\"PM\"])\n",
    "ax.legend_.remove()"
   ],
   "outputs": [
    {
     "output_type": "display_data",
     "data": {
      "text/plain": [
       "<Figure size 432x288 with 1 Axes>"
      ],
      "image/png": "[encoded data removed]"
     },
     "metadata": {}
    }
   ],
   "metadata": {
    "papermill": {
     "duration": 0.3796,
     "end_time": "2021-07-20T18:05:07.647069",
     "exception": false,
     "start_time": "2021-07-20T18:05:07.267469",
     "status": "completed"
    },
    "tags": []
   }
  },
  {
   "cell_type": "markdown",
   "source": [
    "Now let's perform a t-test to see if there's a statistically significant difference in the average BP between AM and PM"
   ],
   "metadata": {}
  },
  {
   "cell_type": "code",
   "execution_count": 9,
   "source": [
    "stats.ttest_ind(df['SYS'][df['partofday'] == 'AM'], df['SYS'][df['partofday'] == 'PM'])"
   ],
   "outputs": [
    {
     "output_type": "execute_result",
     "data": {
      "text/plain": [
       "Ttest_indResult(statistic=3.2485604398802854, pvalue=0.004459530488013578)"
      ]
     },
     "metadata": {},
     "execution_count": 9
    }
   ],
   "metadata": {}
  },
  {
   "cell_type": "code",
   "execution_count": 10,
   "source": [
    "stats.ttest_ind(df['DIA'][df['partofday'] == 'AM'], df['DIA'][df['partofday'] == 'PM'])"
   ],
   "outputs": [
    {
     "output_type": "execute_result",
     "data": {
      "text/plain": [
       "Ttest_indResult(statistic=2.70927610094476, pvalue=0.014365727342797435)"
      ]
     },
     "metadata": {},
     "execution_count": 10
    }
   ],
   "metadata": {}
  },
  {
   "cell_type": "markdown",
   "source": [
    "Now let's perform a t-test to see if there's a statistically significant difference in the average BP between AM and MIDday"
   ],
   "metadata": {}
  },
  {
   "cell_type": "code",
   "execution_count": 11,
   "source": [
    "stats.ttest_ind(df['SYS'][df['partofday'] == 'AM'], df['SYS'][df['partofday'] == 'MID'])"
   ],
   "outputs": [
    {
     "output_type": "execute_result",
     "data": {
      "text/plain": [
       "Ttest_indResult(statistic=0.1560756034964022, pvalue=0.8777105237106861)"
      ]
     },
     "metadata": {},
     "execution_count": 11
    }
   ],
   "metadata": {}
  },
  {
   "cell_type": "code",
   "execution_count": 12,
   "source": [
    "stats.ttest_ind(df['DIA'][df['partofday'] == 'AM'], df['DIA'][df['partofday'] == 'MID'])"
   ],
   "outputs": [
    {
     "output_type": "execute_result",
     "data": {
      "text/plain": [
       "Ttest_indResult(statistic=0.4859149723191154, pvalue=0.6328899681096911)"
      ]
     },
     "metadata": {},
     "execution_count": 12
    }
   ],
   "metadata": {}
  },
  {
   "cell_type": "markdown",
   "source": [
    "### Conclusion: from this initial assessment of the data you could hypothesize that the pressure is better (lower) in the afternoon/evening and therefore reccomend the patient to take her medication in the morning as opposed to the evening. The difference between AM and MIDday is not significant."
   ],
   "metadata": {
    "papermill": {
     "duration": 0.014029,
     "end_time": "2021-07-20T18:05:07.675638",
     "exception": false,
     "start_time": "2021-07-20T18:05:07.661609",
     "status": "completed"
    },
    "tags": []
   }
  },
  {
   "cell_type": "markdown",
   "source": [
    "### Let's now plot the BP values and see what's the temporal trend in time"
   ],
   "metadata": {}
  },
  {
   "cell_type": "markdown",
   "source": [
    "Now let's convert the 'Measurement Date' string to a 'timestamp' datetime value and set it as the dataframe index"
   ],
   "metadata": {}
  },
  {
   "cell_type": "code",
   "execution_count": 13,
   "source": [
    "df['timestamp'] = pd.to_datetime(df['Measurement Date'])"
   ],
   "outputs": [],
   "metadata": {}
  },
  {
   "cell_type": "code",
   "execution_count": 14,
   "source": [
    "df.set_index('timestamp')"
   ],
   "outputs": [
    {
     "output_type": "execute_result",
     "data": {
      "text/plain": [
       "                     Measurement Date    Time Zone  SYS  DIA  Pulse  \\\n",
       "timestamp                                                             \n",
       "2021-06-24 19:01:00  2021-06-24 19:01  Europe/Rome  102   69     82   \n",
       "2021-06-24 19:05:00  2021-06-24 19:05  Europe/Rome   93   71     80   \n",
       "2021-06-25 08:20:00   2021-06-25 8:20  Europe/Rome  112   70     66   \n",
       "2021-06-26 11:53:00  2021-06-26 11:53  Europe/Rome  107   75     88   \n",
       "2021-06-28 17:25:00  2021-06-28 17:25  Europe/Rome  102   69     89   \n",
       "2021-06-28 19:52:00  2021-06-28 19:52  Europe/Rome  101   70     93   \n",
       "2021-06-29 08:11:00   2021-06-29 8:11  Europe/Rome  114   73     71   \n",
       "2021-06-30 20:49:00  2021-06-30 20:49  Europe/Rome  126   80     77   \n",
       "2021-07-03 08:34:00   2021-07-03 8:34  Europe/Rome  121   80     64   \n",
       "2021-07-04 10:27:00  2021-07-04 10:27  Europe/Rome  129   78     65   \n",
       "2021-07-05 10:22:00  2021-07-05 10:22  Europe/Rome  122   81     67   \n",
       "2021-07-06 08:28:00   2021-07-06 8:28  Europe/Rome  135   81     77   \n",
       "2021-07-08 08:14:00   2021-07-08 8:14  Europe/Rome  131   86     69   \n",
       "2021-07-09 09:04:00   2021-07-09 9:04  Europe/Rome  118   76     71   \n",
       "2021-07-10 21:19:00  2021-07-10 21:19  Europe/Rome  110   73     71   \n",
       "2021-07-11 12:56:00  2021-07-11 12:56  Europe/Rome  116   71     69   \n",
       "2021-07-11 15:39:00  2021-07-11 15:39  Europe/Rome  115   70     78   \n",
       "2021-07-15 13:53:00  2021-07-15 13:53  Europe/Rome  128   82     68   \n",
       "2021-07-15 21:00:00  2021-07-15 21:00  Europe/Rome  109   73     73   \n",
       "2021-07-16 09:53:00   2021-07-16 9:53  Europe/Rome  133   85     68   \n",
       "2021-07-16 22:16:00  2021-07-16 22:16  Europe/Rome  124   81     65   \n",
       "2021-07-17 08:31:00   2021-07-17 8:31  Europe/Rome  111   76     68   \n",
       "2021-07-18 08:37:00   2021-07-18 8:37  Europe/Rome  124   85     63   \n",
       "2021-07-18 11:05:00  2021-07-18 11:05  Europe/Rome  126   83     63   \n",
       "2021-07-19 08:30:00   2021-07-19 8:30  Europe/Rome  121   80     69   \n",
       "2021-07-19 16:25:00  2021-07-19 16:25  Europe/Rome  130   81     68   \n",
       "2021-07-20 11:42:00  2021-07-20 11:42  Europe/Rome  129   82     69   \n",
       "2021-07-20 14:06:00  2021-07-20 14:06  Europe/Rome  125   81     71   \n",
       "\n",
       "                    Device Model Name partofday  \n",
       "timestamp                                        \n",
       "2021-06-24 19:01:00     HEM-7361T_ESL        PM  \n",
       "2021-06-24 19:05:00     HEM-7361T_ESL        PM  \n",
       "2021-06-25 08:20:00     HEM-7361T_ESL        AM  \n",
       "2021-06-26 11:53:00     HEM-7361T_ESL       MID  \n",
       "2021-06-28 17:25:00     HEM-7361T_ESL        PM  \n",
       "2021-06-28 19:52:00     HEM-7361T_ESL        PM  \n",
       "2021-06-29 08:11:00     HEM-7361T_ESL        AM  \n",
       "2021-06-30 20:49:00     HEM-7361T_ESL        PM  \n",
       "2021-07-03 08:34:00     HEM-7361T_ESL        AM  \n",
       "2021-07-04 10:27:00     HEM-7361T_ESL        AM  \n",
       "2021-07-05 10:22:00     HEM-7361T_ESL        AM  \n",
       "2021-07-06 08:28:00     HEM-7361T_ESL        AM  \n",
       "2021-07-08 08:14:00     HEM-7361T_ESL        AM  \n",
       "2021-07-09 09:04:00     HEM-7361T_ESL        AM  \n",
       "2021-07-10 21:19:00     HEM-7361T_ESL        PM  \n",
       "2021-07-11 12:56:00     HEM-7361T_ESL       MID  \n",
       "2021-07-11 15:39:00     HEM-7361T_ESL       MID  \n",
       "2021-07-15 13:53:00     HEM-7361T_ESL       MID  \n",
       "2021-07-15 21:00:00     HEM-7361T_ESL        PM  \n",
       "2021-07-16 09:53:00     HEM-7361T_ESL        AM  \n",
       "2021-07-16 22:16:00     HEM-7361T_ESL        PM  \n",
       "2021-07-17 08:31:00     HEM-7361T_ESL        AM  \n",
       "2021-07-18 08:37:00     HEM-7361T_ESL        AM  \n",
       "2021-07-18 11:05:00     HEM-7361T_ESL       MID  \n",
       "2021-07-19 08:30:00     HEM-7361T_ESL        AM  \n",
       "2021-07-19 16:25:00     HEM-7361T_ESL       MID  \n",
       "2021-07-20 11:42:00     HEM-7361T_ESL       MID  \n",
       "2021-07-20 14:06:00     HEM-7361T_ESL       MID  "
      ],
      "text/html": [
       "<div>\n",
       "<style scoped>\n",
       "    .dataframe tbody tr th:only-of-type {\n",
       "        vertical-align: middle;\n",
       "    }\n",
       "\n",
       "    .dataframe tbody tr th {\n",
       "        vertical-align: top;\n",
       "    }\n",
       "\n",
       "    .dataframe thead th {\n",
       "        text-align: right;\n",
       "    }\n",
       "</style>\n",
       "<table border=\"1\" class=\"dataframe\">\n",
       "  <thead>\n",
       "    <tr style=\"text-align: right;\">\n",
       "      <th></th>\n",
       "      <th>Measurement Date</th>\n",
       "      <th>Time Zone</th>\n",
       "      <th>SYS</th>\n",
       "      <th>DIA</th>\n",
       "      <th>Pulse</th>\n",
       "      <th>Device Model Name</th>\n",
       "      <th>partofday</th>\n",
       "    </tr>\n",
       "    <tr>\n",
       "      <th>timestamp</th>\n",
       "      <th></th>\n",
       "      <th></th>\n",
       "      <th></th>\n",
       "      <th></th>\n",
       "      <th></th>\n",
       "      <th></th>\n",
       "      <th></th>\n",
       "    </tr>\n",
       "  </thead>\n",
       "  <tbody>\n",
       "    <tr>\n",
       "      <th>2021-06-24 19:01:00</th>\n",
       "      <td>2021-06-24 19:01</td>\n",
       "      <td>Europe/Rome</td>\n",
       "      <td>102</td>\n",
       "      <td>69</td>\n",
       "      <td>82</td>\n",
       "      <td>HEM-7361T_ESL</td>\n",
       "      <td>PM</td>\n",
       "    </tr>\n",
       "    <tr>\n",
       "      <th>2021-06-24 19:05:00</th>\n",
       "      <td>2021-06-24 19:05</td>\n",
       "      <td>Europe/Rome</td>\n",
       "      <td>93</td>\n",
       "      <td>71</td>\n",
       "      <td>80</td>\n",
       "      <td>HEM-7361T_ESL</td>\n",
       "      <td>PM</td>\n",
       "    </tr>\n",
       "    <tr>\n",
       "      <th>2021-06-25 08:20:00</th>\n",
       "      <td>2021-06-25 8:20</td>\n",
       "      <td>Europe/Rome</td>\n",
       "      <td>112</td>\n",
       "      <td>70</td>\n",
       "      <td>66</td>\n",
       "      <td>HEM-7361T_ESL</td>\n",
       "      <td>AM</td>\n",
       "    </tr>\n",
       "    <tr>\n",
       "      <th>2021-06-26 11:53:00</th>\n",
       "      <td>2021-06-26 11:53</td>\n",
       "      <td>Europe/Rome</td>\n",
       "      <td>107</td>\n",
       "      <td>75</td>\n",
       "      <td>88</td>\n",
       "      <td>HEM-7361T_ESL</td>\n",
       "      <td>MID</td>\n",
       "    </tr>\n",
       "    <tr>\n",
       "      <th>2021-06-28 17:25:00</th>\n",
       "      <td>2021-06-28 17:25</td>\n",
       "      <td>Europe/Rome</td>\n",
       "      <td>102</td>\n",
       "      <td>69</td>\n",
       "      <td>89</td>\n",
       "      <td>HEM-7361T_ESL</td>\n",
       "      <td>PM</td>\n",
       "    </tr>\n",
       "    <tr>\n",
       "      <th>2021-06-28 19:52:00</th>\n",
       "      <td>2021-06-28 19:52</td>\n",
       "      <td>Europe/Rome</td>\n",
       "      <td>101</td>\n",
       "      <td>70</td>\n",
       "      <td>93</td>\n",
       "      <td>HEM-7361T_ESL</td>\n",
       "      <td>PM</td>\n",
       "    </tr>\n",
       "    <tr>\n",
       "      <th>2021-06-29 08:11:00</th>\n",
       "      <td>2021-06-29 8:11</td>\n",
       "      <td>Europe/Rome</td>\n",
       "      <td>114</td>\n",
       "      <td>73</td>\n",
       "      <td>71</td>\n",
       "      <td>HEM-7361T_ESL</td>\n",
       "      <td>AM</td>\n",
       "    </tr>\n",
       "    <tr>\n",
       "      <th>2021-06-30 20:49:00</th>\n",
       "      <td>2021-06-30 20:49</td>\n",
       "      <td>Europe/Rome</td>\n",
       "      <td>126</td>\n",
       "      <td>80</td>\n",
       "      <td>77</td>\n",
       "      <td>HEM-7361T_ESL</td>\n",
       "      <td>PM</td>\n",
       "    </tr>\n",
       "    <tr>\n",
       "      <th>2021-07-03 08:34:00</th>\n",
       "      <td>2021-07-03 8:34</td>\n",
       "      <td>Europe/Rome</td>\n",
       "      <td>121</td>\n",
       "      <td>80</td>\n",
       "      <td>64</td>\n",
       "      <td>HEM-7361T_ESL</td>\n",
       "      <td>AM</td>\n",
       "    </tr>\n",
       "    <tr>\n",
       "      <th>2021-07-04 10:27:00</th>\n",
       "      <td>2021-07-04 10:27</td>\n",
       "      <td>Europe/Rome</td>\n",
       "      <td>129</td>\n",
       "      <td>78</td>\n",
       "      <td>65</td>\n",
       "      <td>HEM-7361T_ESL</td>\n",
       "      <td>AM</td>\n",
       "    </tr>\n",
       "    <tr>\n",
       "      <th>2021-07-05 10:22:00</th>\n",
       "      <td>2021-07-05 10:22</td>\n",
       "      <td>Europe/Rome</td>\n",
       "      <td>122</td>\n",
       "      <td>81</td>\n",
       "      <td>67</td>\n",
       "      <td>HEM-7361T_ESL</td>\n",
       "      <td>AM</td>\n",
       "    </tr>\n",
       "    <tr>\n",
       "      <th>2021-07-06 08:28:00</th>\n",
       "      <td>2021-07-06 8:28</td>\n",
       "      <td>Europe/Rome</td>\n",
       "      <td>135</td>\n",
       "      <td>81</td>\n",
       "      <td>77</td>\n",
       "      <td>HEM-7361T_ESL</td>\n",
       "      <td>AM</td>\n",
       "    </tr>\n",
       "    <tr>\n",
       "      <th>2021-07-08 08:14:00</th>\n",
       "      <td>2021-07-08 8:14</td>\n",
       "      <td>Europe/Rome</td>\n",
       "      <td>131</td>\n",
       "      <td>86</td>\n",
       "      <td>69</td>\n",
       "      <td>HEM-7361T_ESL</td>\n",
       "      <td>AM</td>\n",
       "    </tr>\n",
       "    <tr>\n",
       "      <th>2021-07-09 09:04:00</th>\n",
       "      <td>2021-07-09 9:04</td>\n",
       "      <td>Europe/Rome</td>\n",
       "      <td>118</td>\n",
       "      <td>76</td>\n",
       "      <td>71</td>\n",
       "      <td>HEM-7361T_ESL</td>\n",
       "      <td>AM</td>\n",
       "    </tr>\n",
       "    <tr>\n",
       "      <th>2021-07-10 21:19:00</th>\n",
       "      <td>2021-07-10 21:19</td>\n",
       "      <td>Europe/Rome</td>\n",
       "      <td>110</td>\n",
       "      <td>73</td>\n",
       "      <td>71</td>\n",
       "      <td>HEM-7361T_ESL</td>\n",
       "      <td>PM</td>\n",
       "    </tr>\n",
       "    <tr>\n",
       "      <th>2021-07-11 12:56:00</th>\n",
       "      <td>2021-07-11 12:56</td>\n",
       "      <td>Europe/Rome</td>\n",
       "      <td>116</td>\n",
       "      <td>71</td>\n",
       "      <td>69</td>\n",
       "      <td>HEM-7361T_ESL</td>\n",
       "      <td>MID</td>\n",
       "    </tr>\n",
       "    <tr>\n",
       "      <th>2021-07-11 15:39:00</th>\n",
       "      <td>2021-07-11 15:39</td>\n",
       "      <td>Europe/Rome</td>\n",
       "      <td>115</td>\n",
       "      <td>70</td>\n",
       "      <td>78</td>\n",
       "      <td>HEM-7361T_ESL</td>\n",
       "      <td>MID</td>\n",
       "    </tr>\n",
       "    <tr>\n",
       "      <th>2021-07-15 13:53:00</th>\n",
       "      <td>2021-07-15 13:53</td>\n",
       "      <td>Europe/Rome</td>\n",
       "      <td>128</td>\n",
       "      <td>82</td>\n",
       "      <td>68</td>\n",
       "      <td>HEM-7361T_ESL</td>\n",
       "      <td>MID</td>\n",
       "    </tr>\n",
       "    <tr>\n",
       "      <th>2021-07-15 21:00:00</th>\n",
       "      <td>2021-07-15 21:00</td>\n",
       "      <td>Europe/Rome</td>\n",
       "      <td>109</td>\n",
       "      <td>73</td>\n",
       "      <td>73</td>\n",
       "      <td>HEM-7361T_ESL</td>\n",
       "      <td>PM</td>\n",
       "    </tr>\n",
       "    <tr>\n",
       "      <th>2021-07-16 09:53:00</th>\n",
       "      <td>2021-07-16 9:53</td>\n",
       "      <td>Europe/Rome</td>\n",
       "      <td>133</td>\n",
       "      <td>85</td>\n",
       "      <td>68</td>\n",
       "      <td>HEM-7361T_ESL</td>\n",
       "      <td>AM</td>\n",
       "    </tr>\n",
       "    <tr>\n",
       "      <th>2021-07-16 22:16:00</th>\n",
       "      <td>2021-07-16 22:16</td>\n",
       "      <td>Europe/Rome</td>\n",
       "      <td>124</td>\n",
       "      <td>81</td>\n",
       "      <td>65</td>\n",
       "      <td>HEM-7361T_ESL</td>\n",
       "      <td>PM</td>\n",
       "    </tr>\n",
       "    <tr>\n",
       "      <th>2021-07-17 08:31:00</th>\n",
       "      <td>2021-07-17 8:31</td>\n",
       "      <td>Europe/Rome</td>\n",
       "      <td>111</td>\n",
       "      <td>76</td>\n",
       "      <td>68</td>\n",
       "      <td>HEM-7361T_ESL</td>\n",
       "      <td>AM</td>\n",
       "    </tr>\n",
       "    <tr>\n",
       "      <th>2021-07-18 08:37:00</th>\n",
       "      <td>2021-07-18 8:37</td>\n",
       "      <td>Europe/Rome</td>\n",
       "      <td>124</td>\n",
       "      <td>85</td>\n",
       "      <td>63</td>\n",
       "      <td>HEM-7361T_ESL</td>\n",
       "      <td>AM</td>\n",
       "    </tr>\n",
       "    <tr>\n",
       "      <th>2021-07-18 11:05:00</th>\n",
       "      <td>2021-07-18 11:05</td>\n",
       "      <td>Europe/Rome</td>\n",
       "      <td>126</td>\n",
       "      <td>83</td>\n",
       "      <td>63</td>\n",
       "      <td>HEM-7361T_ESL</td>\n",
       "      <td>MID</td>\n",
       "    </tr>\n",
       "    <tr>\n",
       "      <th>2021-07-19 08:30:00</th>\n",
       "      <td>2021-07-19 8:30</td>\n",
       "      <td>Europe/Rome</td>\n",
       "      <td>121</td>\n",
       "      <td>80</td>\n",
       "      <td>69</td>\n",
       "      <td>HEM-7361T_ESL</td>\n",
       "      <td>AM</td>\n",
       "    </tr>\n",
       "    <tr>\n",
       "      <th>2021-07-19 16:25:00</th>\n",
       "      <td>2021-07-19 16:25</td>\n",
       "      <td>Europe/Rome</td>\n",
       "      <td>130</td>\n",
       "      <td>81</td>\n",
       "      <td>68</td>\n",
       "      <td>HEM-7361T_ESL</td>\n",
       "      <td>MID</td>\n",
       "    </tr>\n",
       "    <tr>\n",
       "      <th>2021-07-20 11:42:00</th>\n",
       "      <td>2021-07-20 11:42</td>\n",
       "      <td>Europe/Rome</td>\n",
       "      <td>129</td>\n",
       "      <td>82</td>\n",
       "      <td>69</td>\n",
       "      <td>HEM-7361T_ESL</td>\n",
       "      <td>MID</td>\n",
       "    </tr>\n",
       "    <tr>\n",
       "      <th>2021-07-20 14:06:00</th>\n",
       "      <td>2021-07-20 14:06</td>\n",
       "      <td>Europe/Rome</td>\n",
       "      <td>125</td>\n",
       "      <td>81</td>\n",
       "      <td>71</td>\n",
       "      <td>HEM-7361T_ESL</td>\n",
       "      <td>MID</td>\n",
       "    </tr>\n",
       "  </tbody>\n",
       "</table>\n",
       "</div>"
      ]
     },
     "metadata": {},
     "execution_count": 14
    }
   ],
   "metadata": {}
  },
  {
   "cell_type": "code",
   "execution_count": 15,
   "source": [
    "print(df.info())"
   ],
   "outputs": [
    {
     "output_type": "stream",
     "name": "stdout",
     "text": [
      "<class 'pandas.core.frame.DataFrame'>\n",
      "RangeIndex: 28 entries, 0 to 27\n",
      "Data columns (total 8 columns):\n",
      " #   Column             Non-Null Count  Dtype         \n",
      "---  ------             --------------  -----         \n",
      " 0   Measurement Date   28 non-null     object        \n",
      " 1   Time Zone          28 non-null     object        \n",
      " 2   SYS                28 non-null     int64         \n",
      " 3   DIA                28 non-null     int64         \n",
      " 4   Pulse              28 non-null     int64         \n",
      " 5   Device Model Name  28 non-null     object        \n",
      " 6   partofday          28 non-null     object        \n",
      " 7   timestamp          28 non-null     datetime64[ns]\n",
      "dtypes: datetime64[ns](1), int64(3), object(4)\n",
      "memory usage: 1.9+ KB\n",
      "None\n"
     ]
    }
   ],
   "metadata": {}
  },
  {
   "cell_type": "markdown",
   "source": [
    "Now plot the two scatter graphs using timestamp as the time-series x value ... why doesn't it work? Why does it use the \"old\" numerical progression original index?"
   ],
   "metadata": {}
  },
  {
   "cell_type": "code",
   "execution_count": 16,
   "source": [
    "ax1 = df.SYS.plot(color='red', grid=True, label='SYS')\n",
    "ax2 = df.DIA.plot(color='blue', grid=True, label='DIA')\n"
   ],
   "outputs": [
    {
     "output_type": "display_data",
     "data": {
      "text/plain": [
       "<Figure size 432x288 with 1 Axes>"
      ],
      "image/png": "[encoded data removed]"
     },
     "metadata": {}
    }
   ],
   "metadata": {}
  },
  {
   "cell_type": "markdown",
   "source": [
    "Now the following using seaborn works a lot better, but why doesn't it show the legend?"
   ],
   "metadata": {}
  },
  {
   "cell_type": "code",
   "execution_count": 22,
   "source": [
    "sns.scatterplot(x=\"timestamp\", y=\"SYS\", data=df, palette=palette, legend='full')\n",
    "sns.scatterplot(x=\"timestamp\", y=\"DIA\", data=df, palette=palette, legend='full')\n",
    "plt.xticks(rotation=25)\n",
    "plt.show()"
   ],
   "outputs": [
    {
     "output_type": "display_data",
     "data": {
      "text/plain": [
       "<Figure size 432x288 with 1 Axes>"
      ],
      "image/png": "[encoded data removed]"
     },
     "metadata": {}
    }
   ],
   "metadata": {}
  },
  {
   "cell_type": "markdown",
   "source": [
    "Next would be fitting a linear regression line on the two series but still learning howto :)"
   ],
   "metadata": {}
  },
  {
   "cell_type": "code",
   "execution_count": null,
   "source": [],
   "outputs": [],
   "metadata": {}
  }
 ],
 "metadata": {
  "interpreter": {
   "hash": "bdc55269a2662f4906ef3caf9259cd1c01de25e7757f5be1a6cca0a233cd994b"
  },
  "kernelspec": {
   "name": "python3",
   "display_name": "Python 3.9.5 64-bit ('seaborn': conda)"
  },
  "language_info": {
   "codemirror_mode": {
    "name": "ipython",
    "version": 3
   },
   "file_extension": ".py",
   "mimetype": "text/x-python",
   "name": "python",
   "nbconvert_exporter": "python",
   "pygments_lexer": "ipython3",
   "version": "3.9.5"
  },
  "papermill": {
   "default_parameters": {},
   "duration": 11.362955,
   "end_time": "2021-07-20T18:05:08.400224",
   "environment_variables": {},
   "exception": null,
   "input_path": "__notebook__.ipynb",
   "output_path": "__notebook__.ipynb",
   "parameters": {},
   "start_time": "2021-07-20T18:04:57.037269",
   "version": "2.3.3"
  }
 },
 "nbformat": 4,
 "nbformat_minor": 5
}