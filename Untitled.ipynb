{
 "cells": [
  {
   "cell_type": "code",
   "execution_count": 2,
   "id": "b820f083-5655-40ab-a885-265ca12a587b",
   "metadata": {},
   "outputs": [],
   "source": [
    "bp_stages = {\n",
    "    \"normal\": \"#aecd55\",\n",
    "    \"elevated\": \"#fcec4f\",\n",
    "    \"stage1\": \"#f4b93f\",\n",
    "    \"stage2\": \"#ad451d\",\n",
    "    \"crisis\": \"#8c1e1b\",\n",
    "}"
   ]
  },
  {
   "cell_type": "code",
   "execution_count": 3,
   "id": "d6e7f762-6a00-42a5-87b5-65b1990d2c5b",
   "metadata": {},
   "outputs": [
    {
     "data": {
      "text/plain": [
       "{'normal': '#aecd55',\n",
       " 'elevated': '#fcec4f',\n",
       " 'stage1': '#f4b93f',\n",
       " 'stage2': '#ad451d',\n",
       " 'crisis': '#8c1e1b'}"
      ]
     },
     "execution_count": 3,
     "metadata": {},
     "output_type": "execute_result"
    }
   ],
   "source": [
    "bp_stages"
   ]
  },
  {
   "cell_type": "code",
   "execution_count": 8,
   "id": "f661f076-55a8-45bf-aa62-68615b71e6d9",
   "metadata": {},
   "outputs": [
    {
     "data": {
      "text/plain": [
       "dict_keys(['normal', 'elevated', 'stage1', 'stage2', 'crisis'])"
      ]
     },
     "execution_count": 8,
     "metadata": {},
     "output_type": "execute_result"
    }
   ],
   "source": [
    "bp_stages.keys()"
   ]
  },
  {
   "cell_type": "code",
   "execution_count": null,
   "id": "04bb2a81-fcee-4281-9a63-d47d62280ac8",
   "metadata": {},
   "outputs": [],
   "source": []
  }
 ],
 "metadata": {
  "kernelspec": {
   "display_name": "Python 3 (ipykernel)",
   "language": "python",
   "name": "python3"
  },
  "language_info": {
   "codemirror_mode": {
    "name": "ipython",
    "version": 3
   },
   "file_extension": ".py",
   "mimetype": "text/x-python",
   "name": "python",
   "nbconvert_exporter": "python",
   "pygments_lexer": "ipython3",
   "version": "3.9.12"
  }
 },
 "nbformat": 4,
 "nbformat_minor": 5
}
